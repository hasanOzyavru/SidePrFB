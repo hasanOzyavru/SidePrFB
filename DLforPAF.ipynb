{
 "cells": [
  {
   "cell_type": "markdown",
   "metadata": {},
   "source": [
    "## PAROXYSMAL ATRIAL FIBRILLATION CLASSIFICATION BY MLP\n",
    "\n",
    "Paroxysmal atrial fibrillation (PAF), as being a type of arrhythmia of the heart that occurs spontaneously, has been the interest of researchers for more than a decade. Due to its spontaneous nature, it is hard to get ECG readings during PAF attacks. Therefore, classification methods have been developed to diagnose PAF patients, from the electrocardiogram (ECG) records with normal sinus rhythm. The purpose of this study is to utilize recent developments in deep neural network to find a better classifier to achieve higher accuracies. MLP is used to achieve classification goal of labelling the PAF subject as 1 and 0 otherwise. \n",
    "\n",
    "If this is achieved, considering that we have data collection possibilities via mobile phones, the second step is going to be early warning to prevent many issues that may arise with a sudden PAF attack (such as while driving..)\n",
    "\n",
    "The dataset is from Physionet \"The research resource for complex physiologic signals\". Retrieved from physionet.org: https://www.physionet.org and used in “The PAF Prediction Challenge” in 2001.\n",
    "\n",
    "This database is described in\n",
    "Moody GB, Goldberger AL, McClennen S, Swiryn SP. Predicting the Onset of Paroxysmal Atrial Fibrillation: The Computers in Cardiology Challenge 2001. Computers in Cardiology28:113-116 (2001).\n",
    "Citation for PhysioNet:\n",
    "Goldberger AL, Amaral LAN, Glass L, Hausdorff JM, Ivanov PCh, Mark RG, Mietus JE, Moody GB, Peng C-K, Stanley HE. PhysioBank, PhysioToolkit, and PhysioNet: Components of a New Research Resource for Complex Physiologic Signals. Circulation 101(23):e215-e220 [Circulation Electronic Pages; http://circ.ahajournals.org/content/101/23/e215.full]; 2000 (June 13).\n",
    "\n",
    "In this study, I utilized the outcome of a phd thesis. (Hilavin, I. (2016). Development of a System to Diagnose Atrial Fibrillation Patients From Arrythmia Free ECG Records. İzmir, Turkey: DEU.) In her study, Ms. Hilavin created 33 features (like Mean RR, Std RR etc) from PAF dataset and through Genetic Algorithms, she has found out the most describing 8 features. By taking these 8 features and implementing SVM classifier she achieved over 90% accuracy.\n",
    "\n",
    "When we want to use the dataset for a DL algorithm, the first thing to realize is that the data is not big enough for the model to be trained. (50 person with PAF and 50  person without) \n",
    "\n",
    "Hilavin’s preprocessed data is considered to be doing some part of the DL network’s job and MLP is decided to be used with that derived dataset which has 798 rows and 8 features."
   ]
  },
  {
   "cell_type": "markdown",
   "metadata": {},
   "source": [
    "### Result\n",
    "The results do not seem to be satisfactory.It needs to be further analyzed."
   ]
  },
  {
   "cell_type": "markdown",
   "metadata": {},
   "source": [
    "### Thanks to Udacity and Facebook for Pytorch Challenge"
   ]
  },
  {
   "cell_type": "code",
   "execution_count": 1,
   "metadata": {},
   "outputs": [],
   "source": [
    "#import necessary libraries\n",
    "import numpy as np\n",
    "import pandas as pd\n",
    "from sklearn.utils import shuffle\n",
    "import torch\n",
    "from torchvision import transforms\n",
    "from torch import nn, optim\n",
    "import torch.utils.data as data_utils\n",
    "from torch.optim import lr_scheduler\n",
    "from torch.autograd import Variable\n",
    "import seaborn\n",
    "import matplotlib.pyplot as plt\n",
    "%matplotlib inline"
   ]
  },
  {
   "cell_type": "markdown",
   "metadata": {},
   "source": [
    "Reading the data"
   ]
  },
  {
   "cell_type": "code",
   "execution_count": 2,
   "metadata": {},
   "outputs": [
    {
     "data": {
      "text/html": [
       "<div>\n",
       "<style scoped>\n",
       "    .dataframe tbody tr th:only-of-type {\n",
       "        vertical-align: middle;\n",
       "    }\n",
       "\n",
       "    .dataframe tbody tr th {\n",
       "        vertical-align: top;\n",
       "    }\n",
       "\n",
       "    .dataframe thead th {\n",
       "        text-align: right;\n",
       "    }\n",
       "</style>\n",
       "<table border=\"1\" class=\"dataframe\">\n",
       "  <thead>\n",
       "    <tr style=\"text-align: right;\">\n",
       "      <th></th>\n",
       "      <th>Mean RR</th>\n",
       "      <th>Std RR</th>\n",
       "      <th>HF peak</th>\n",
       "      <th>LF power prc</th>\n",
       "      <th>HF power prc</th>\n",
       "      <th>SD1</th>\n",
       "      <th>SampEn</th>\n",
       "      <th>DFA ɑ1</th>\n",
       "      <th>PAF1</th>\n",
       "      <th>Kişi numarası</th>\n",
       "    </tr>\n",
       "  </thead>\n",
       "  <tbody>\n",
       "    <tr>\n",
       "      <th>0</th>\n",
       "      <td>0.7109</td>\n",
       "      <td>0.1273</td>\n",
       "      <td>0.4438</td>\n",
       "      <td>0.0753</td>\n",
       "      <td>0.9335</td>\n",
       "      <td>0.1330</td>\n",
       "      <td>0.8583</td>\n",
       "      <td>0.2020</td>\n",
       "      <td>1</td>\n",
       "      <td>1</td>\n",
       "    </tr>\n",
       "    <tr>\n",
       "      <th>1</th>\n",
       "      <td>0.7052</td>\n",
       "      <td>0.1032</td>\n",
       "      <td>0.4064</td>\n",
       "      <td>0.0492</td>\n",
       "      <td>0.9257</td>\n",
       "      <td>0.1251</td>\n",
       "      <td>0.6426</td>\n",
       "      <td>0.1596</td>\n",
       "      <td>1</td>\n",
       "      <td>1</td>\n",
       "    </tr>\n",
       "    <tr>\n",
       "      <th>2</th>\n",
       "      <td>0.7022</td>\n",
       "      <td>0.1240</td>\n",
       "      <td>0.3823</td>\n",
       "      <td>0.1474</td>\n",
       "      <td>0.8228</td>\n",
       "      <td>0.1174</td>\n",
       "      <td>0.7113</td>\n",
       "      <td>0.2397</td>\n",
       "      <td>1</td>\n",
       "      <td>1</td>\n",
       "    </tr>\n",
       "  </tbody>\n",
       "</table>\n",
       "</div>"
      ],
      "text/plain": [
       "   Mean RR  Std RR  HF peak  LF power prc  HF power prc     SD1  SampEn  \\\n",
       "0   0.7109  0.1273   0.4438        0.0753        0.9335  0.1330  0.8583   \n",
       "1   0.7052  0.1032   0.4064        0.0492        0.9257  0.1251  0.6426   \n",
       "2   0.7022  0.1240   0.3823        0.1474        0.8228  0.1174  0.7113   \n",
       "\n",
       "   DFA ɑ1  PAF1  Kişi numarası  \n",
       "0  0.2020     1              1  \n",
       "1  0.1596     1              1  \n",
       "2  0.2397     1              1  "
      ]
     },
     "execution_count": 2,
     "metadata": {},
     "output_type": "execute_result"
    }
   ],
   "source": [
    "data = pd.read_csv('paf8.csv')\n",
    "data.head(3)"
   ]
  },
  {
   "cell_type": "markdown",
   "metadata": {},
   "source": [
    "Checking if there is missing data"
   ]
  },
  {
   "cell_type": "code",
   "execution_count": 3,
   "metadata": {},
   "outputs": [
    {
     "data": {
      "text/plain": [
       "Mean RR          0\n",
       "Std RR           0\n",
       "HF peak          0\n",
       "LF power prc     0\n",
       "HF power prc     0\n",
       "SD1              0\n",
       "SampEn           0\n",
       "DFA ɑ1           0\n",
       "PAF1             0\n",
       "Kişi numarası    0\n",
       "dtype: int64"
      ]
     },
     "execution_count": 3,
     "metadata": {},
     "output_type": "execute_result"
    }
   ],
   "source": [
    "data.isnull().sum() "
   ]
  },
  {
   "cell_type": "markdown",
   "metadata": {},
   "source": [
    "In order to see the distribution of features values"
   ]
  },
  {
   "cell_type": "code",
   "execution_count": 4,
   "metadata": {},
   "outputs": [
    {
     "data": {
      "image/png": "[encoded data removed]",
      "text/plain": [
       "<Figure size 1440x720 with 8 Axes>"
      ]
     },
     "metadata": {
      "needs_background": "light"
     },
     "output_type": "display_data"
    }
   ],
   "source": [
    "def draw_histograms(dataframe, features, rows, cols):\n",
    "    fig=plt.figure(figsize=(20,10))\n",
    "    for i, feature in enumerate(features):\n",
    "        ax=fig.add_subplot(rows,cols,i+1)\n",
    "        dataframe[feature].hist(bins=20,ax=ax, facecolor='midnightblue')\n",
    "        ax.set_title(feature+\" Distribution\",color='DarkRed')\n",
    "        \n",
    "    fig.tight_layout()  \n",
    "    plt.show()\n",
    "draw_histograms(data,data.columns[0:8],2,4)"
   ]
  },
  {
   "cell_type": "markdown",
   "metadata": {},
   "source": [
    "To see the distribution of PAF subjects on these features"
   ]
  },
  {
   "cell_type": "code",
   "execution_count": 5,
   "metadata": {},
   "outputs": [
    {
     "data": {
      "text/plain": [
       "<seaborn.axisgrid.FacetGrid at 0x11174a908>"
      ]
     },
     "execution_count": 5,
     "metadata": {},
     "output_type": "execute_result"
    },
    {
     "data": {
      "image/png": "[encoded data removed]",
      "text/plain": [
       "<Figure size 393.485x216 with 1 Axes>"
      ]
     },
     "metadata": {},
     "output_type": "display_data"
    }
   ],
   "source": [
    "seaborn.set(style='ticks')\n",
    "fg = seaborn.FacetGrid(data=data, hue=data.columns[8], hue_order=[1,0], aspect=1.61)\n",
    "fg.map(plt.scatter, 'Mean RR', 'PAF1').add_legend()"
   ]
  },
  {
   "cell_type": "code",
   "execution_count": 6,
   "metadata": {},
   "outputs": [
    {
     "data": {
      "text/plain": [
       "<seaborn.axisgrid.FacetGrid at 0x1a29717048>"
      ]
     },
     "execution_count": 6,
     "metadata": {},
     "output_type": "execute_result"
    },
    {
     "data": {
      "image/png": "[encoded data removed]",
      "text/plain": [
       "<Figure size 393.485x216 with 1 Axes>"
      ]
     },
     "metadata": {},
     "output_type": "display_data"
    }
   ],
   "source": [
    "fg = seaborn.FacetGrid(data=data, hue=data.columns[8], hue_order=[1,0], aspect=1.61)\n",
    "fg.map(plt.scatter, 'Std RR', 'PAF1').add_legend()"
   ]
  },
  {
   "cell_type": "code",
   "execution_count": 7,
   "metadata": {},
   "outputs": [
    {
     "data": {
      "text/plain": [
       "<seaborn.axisgrid.FacetGrid at 0x1a2983ee48>"
      ]
     },
     "execution_count": 7,
     "metadata": {},
     "output_type": "execute_result"
    },
    {
     "data": {
      "image/png": "[encoded data removed]",
      "text/plain": [
       "<Figure size 393.485x216 with 1 Axes>"
      ]
     },
     "metadata": {},
     "output_type": "display_data"
    }
   ],
   "source": [
    "fg = seaborn.FacetGrid(data=data, hue=data.columns[8], hue_order=[1,0], aspect=1.61)\n",
    "fg.map(plt.scatter, 'SampEn', 'PAF1').add_legend()"
   ]
  },
  {
   "cell_type": "code",
   "execution_count": 8,
   "metadata": {},
   "outputs": [
    {
     "data": {
      "text/plain": [
       "<seaborn.axisgrid.FacetGrid at 0x1a299596a0>"
      ]
     },
     "execution_count": 8,
     "metadata": {},
     "output_type": "execute_result"
    },
    {
     "data": {
      "image/png": "[encoded data removed]",
      "text/plain": [
       "<Figure size 393.485x216 with 1 Axes>"
      ]
     },
     "metadata": {},
     "output_type": "display_data"
    }
   ],
   "source": [
    "fg = seaborn.FacetGrid(data=data, hue=data.columns[8], hue_order=[1,0], aspect=1.61)\n",
    "fg.map(plt.scatter, 'SD1', 'PAF1').add_legend()"
   ]
  },
  {
   "cell_type": "code",
   "execution_count": 9,
   "metadata": {},
   "outputs": [
    {
     "data": {
      "text/plain": [
       "<seaborn.axisgrid.FacetGrid at 0x1a29a685c0>"
      ]
     },
     "execution_count": 9,
     "metadata": {},
     "output_type": "execute_result"
    },
    {
     "data": {
      "image/png": "[encoded data removed]",
      "text/plain": [
       "<Figure size 393.485x216 with 1 Axes>"
      ]
     },
     "metadata": {},
     "output_type": "display_data"
    }
   ],
   "source": [
    "fg = seaborn.FacetGrid(data=data, hue=data.columns[8], hue_order=[1,0], aspect=1.61)\n",
    "fg.map(plt.scatter, 'HF peak', 'PAF1').add_legend()"
   ]
  },
  {
   "cell_type": "code",
   "execution_count": 10,
   "metadata": {},
   "outputs": [
    {
     "data": {
      "text/plain": [
       "<seaborn.axisgrid.FacetGrid at 0x1a29b73a20>"
      ]
     },
     "execution_count": 10,
     "metadata": {},
     "output_type": "execute_result"
    },
    {
     "data": {
      "image/png": "[encoded data removed]",
      "text/plain": [
       "<Figure size 393.485x216 with 1 Axes>"
      ]
     },
     "metadata": {},
     "output_type": "display_data"
    }
   ],
   "source": [
    "fg = seaborn.FacetGrid(data=data, hue=data.columns[8], hue_order=[1,0], aspect=1.61)\n",
    "fg.map(plt.scatter, 'DFA ɑ1', 'PAF1').add_legend()"
   ]
  },
  {
   "cell_type": "code",
   "execution_count": 11,
   "metadata": {},
   "outputs": [
    {
     "data": {
      "text/plain": [
       "<seaborn.axisgrid.FacetGrid at 0x1a29c88a90>"
      ]
     },
     "execution_count": 11,
     "metadata": {},
     "output_type": "execute_result"
    },
    {
     "data": {
      "image/png": "[encoded data removed]",
      "text/plain": [
       "<Figure size 393.485x216 with 1 Axes>"
      ]
     },
     "metadata": {},
     "output_type": "display_data"
    }
   ],
   "source": [
    "fg = seaborn.FacetGrid(data=data, hue=data.columns[8], hue_order=[1,0], aspect=1.61)\n",
    "fg.map(plt.scatter, 'LF power prc', 'PAF1').add_legend()"
   ]
  },
  {
   "cell_type": "code",
   "execution_count": 12,
   "metadata": {},
   "outputs": [
    {
     "data": {
      "text/plain": [
       "<seaborn.axisgrid.FacetGrid at 0x1a29d85240>"
      ]
     },
     "execution_count": 12,
     "metadata": {},
     "output_type": "execute_result"
    },
    {
     "data": {
      "image/png": "[encoded data removed]",
      "text/plain": [
       "<Figure size 393.485x216 with 1 Axes>"
      ]
     },
     "metadata": {},
     "output_type": "display_data"
    }
   ],
   "source": [
    "fg = seaborn.FacetGrid(data=data, hue=data.columns[8], hue_order=[1,0], aspect=1.61)\n",
    "fg.map(plt.scatter, 'HF power prc', 'PAF1').add_legend()"
   ]
  },
  {
   "cell_type": "code",
   "execution_count": 13,
   "metadata": {},
   "outputs": [
    {
     "data": {
      "image/png": "[encoded data removed]",
      "text/plain": [
       "<Figure size 393.485x216 with 1 Axes>"
      ]
     },
     "metadata": {},
     "output_type": "display_data"
    }
   ],
   "source": [
    "gir = {1:\"Mean RR\", 2:\"Std RR\", 3:\"SampEn\", 4:\"SD1\", 5:\"HF peak\", 6:\"DFA ɑ1\", 7:\"LF power prc\", 8:\"HF power prc\"}\n",
    "def zx(arg1, arg2):\n",
    "    fg = seaborn.FacetGrid(data=data, hue=data.columns[8], hue_order=[1,0], aspect=1.61)\n",
    "    fg.map(plt.scatter, arg1, arg2).add_legend()\n",
    "zx(gir[1], gir[2])\n",
    "    "
   ]
  },
  {
   "cell_type": "markdown",
   "metadata": {},
   "source": [
    "Print data shape and column info"
   ]
  },
  {
   "cell_type": "code",
   "execution_count": 14,
   "metadata": {},
   "outputs": [
    {
     "name": "stdout",
     "output_type": "stream",
     "text": [
      "data shape =  (798, 10) \n",
      "data column names =  Index(['Mean RR', 'Std RR', 'HF peak', 'LF power prc', 'HF power prc', 'SD1',\n",
      "       'SampEn', 'DFA ɑ1', 'PAF1', 'Kişi numarası'],\n",
      "      dtype='object')\n"
     ]
    }
   ],
   "source": [
    "print(\"data shape = \", data.shape, \"\\ndata column names = \", data.columns)"
   ]
  },
  {
   "cell_type": "markdown",
   "metadata": {},
   "source": [
    "Shuffle data by rows to have different input order to system"
   ]
  },
  {
   "cell_type": "code",
   "execution_count": 15,
   "metadata": {},
   "outputs": [
    {
     "data": {
      "text/html": [
       "<div>\n",
       "<style scoped>\n",
       "    .dataframe tbody tr th:only-of-type {\n",
       "        vertical-align: middle;\n",
       "    }\n",
       "\n",
       "    .dataframe tbody tr th {\n",
       "        vertical-align: top;\n",
       "    }\n",
       "\n",
       "    .dataframe thead th {\n",
       "        text-align: right;\n",
       "    }\n",
       "</style>\n",
       "<table border=\"1\" class=\"dataframe\">\n",
       "  <thead>\n",
       "    <tr style=\"text-align: right;\">\n",
       "      <th></th>\n",
       "      <th>Mean RR</th>\n",
       "      <th>Std RR</th>\n",
       "      <th>HF peak</th>\n",
       "      <th>LF power prc</th>\n",
       "      <th>HF power prc</th>\n",
       "      <th>SD1</th>\n",
       "      <th>SampEn</th>\n",
       "      <th>DFA ɑ1</th>\n",
       "      <th>PAF1</th>\n",
       "      <th>Kişi numarası</th>\n",
       "    </tr>\n",
       "  </thead>\n",
       "  <tbody>\n",
       "    <tr>\n",
       "      <th>701</th>\n",
       "      <td>0.4492</td>\n",
       "      <td>0.0526</td>\n",
       "      <td>0.8656</td>\n",
       "      <td>0.6511</td>\n",
       "      <td>0.1727</td>\n",
       "      <td>0.0757</td>\n",
       "      <td>0.3351</td>\n",
       "      <td>0.5120</td>\n",
       "      <td>0</td>\n",
       "      <td>85</td>\n",
       "    </tr>\n",
       "    <tr>\n",
       "      <th>719</th>\n",
       "      <td>0.9403</td>\n",
       "      <td>0.3875</td>\n",
       "      <td>0.0411</td>\n",
       "      <td>0.7899</td>\n",
       "      <td>0.1661</td>\n",
       "      <td>0.2969</td>\n",
       "      <td>0.4723</td>\n",
       "      <td>0.5631</td>\n",
       "      <td>0</td>\n",
       "      <td>87</td>\n",
       "    </tr>\n",
       "    <tr>\n",
       "      <th>498</th>\n",
       "      <td>0.4682</td>\n",
       "      <td>0.3417</td>\n",
       "      <td>0.5530</td>\n",
       "      <td>0.6536</td>\n",
       "      <td>0.3058</td>\n",
       "      <td>0.2630</td>\n",
       "      <td>0.5969</td>\n",
       "      <td>0.5309</td>\n",
       "      <td>0</td>\n",
       "      <td>68</td>\n",
       "    </tr>\n",
       "    <tr>\n",
       "      <th>628</th>\n",
       "      <td>0.7232</td>\n",
       "      <td>0.5070</td>\n",
       "      <td>0.0307</td>\n",
       "      <td>0.6512</td>\n",
       "      <td>0.2553</td>\n",
       "      <td>0.3380</td>\n",
       "      <td>0.3928</td>\n",
       "      <td>0.5505</td>\n",
       "      <td>0</td>\n",
       "      <td>79</td>\n",
       "    </tr>\n",
       "    <tr>\n",
       "      <th>366</th>\n",
       "      <td>0.2162</td>\n",
       "      <td>0.0475</td>\n",
       "      <td>0.3533</td>\n",
       "      <td>0.4647</td>\n",
       "      <td>0.5081</td>\n",
       "      <td>0.0705</td>\n",
       "      <td>0.3632</td>\n",
       "      <td>0.1812</td>\n",
       "      <td>0</td>\n",
       "      <td>56</td>\n",
       "    </tr>\n",
       "  </tbody>\n",
       "</table>\n",
       "</div>"
      ],
      "text/plain": [
       "     Mean RR  Std RR  HF peak  LF power prc  HF power prc     SD1  SampEn  \\\n",
       "701   0.4492  0.0526   0.8656        0.6511        0.1727  0.0757  0.3351   \n",
       "719   0.9403  0.3875   0.0411        0.7899        0.1661  0.2969  0.4723   \n",
       "498   0.4682  0.3417   0.5530        0.6536        0.3058  0.2630  0.5969   \n",
       "628   0.7232  0.5070   0.0307        0.6512        0.2553  0.3380  0.3928   \n",
       "366   0.2162  0.0475   0.3533        0.4647        0.5081  0.0705  0.3632   \n",
       "\n",
       "     DFA ɑ1  PAF1  Kişi numarası  \n",
       "701  0.5120     0             85  \n",
       "719  0.5631     0             87  \n",
       "498  0.5309     0             68  \n",
       "628  0.5505     0             79  \n",
       "366  0.1812     0             56  "
      ]
     },
     "execution_count": 15,
     "metadata": {},
     "output_type": "execute_result"
    }
   ],
   "source": [
    "data = shuffle(data)\n",
    "data.head()"
   ]
  },
  {
   "cell_type": "markdown",
   "metadata": {},
   "source": [
    "Convert to torch Float Tensor"
   ]
  },
  {
   "cell_type": "code",
   "execution_count": 16,
   "metadata": {},
   "outputs": [],
   "source": [
    "data = torch.FloatTensor(data.values)"
   ]
  },
  {
   "cell_type": "markdown",
   "metadata": {},
   "source": [
    "Print sample data from new set"
   ]
  },
  {
   "cell_type": "code",
   "execution_count": 17,
   "metadata": {},
   "outputs": [
    {
     "name": "stdout",
     "output_type": "stream",
     "text": [
      "data[0,1] =  tensor(0.0526) \n",
      "data.shape = torch.Size([798, 10])\n"
     ]
    }
   ],
   "source": [
    "print(\"data[0,1] = \",data[0,1], \"\\ndata.shape =\", data.shape)"
   ]
  },
  {
   "cell_type": "code",
   "execution_count": 18,
   "metadata": {},
   "outputs": [
    {
     "data": {
      "text/plain": [
       "798"
      ]
     },
     "execution_count": 18,
     "metadata": {},
     "output_type": "execute_result"
    }
   ],
   "source": [
    "len(data)"
   ]
  },
  {
   "cell_type": "markdown",
   "metadata": {},
   "source": [
    "Function for columnwise normalizing the data"
   ]
  },
  {
   "cell_type": "code",
   "execution_count": 19,
   "metadata": {},
   "outputs": [
    {
     "name": "stdout",
     "output_type": "stream",
     "text": [
      "tensor([[ 1.1094, -0.7559, -1.0000],\n",
      "        [-0.2774, -0.3780,  0.0000],\n",
      "        [-0.8321,  1.1339,  1.0000]])\n"
     ]
    }
   ],
   "source": [
    "def normalize(t):\n",
    "    t = t/t.max(dim=0)[0]\n",
    "    t = (t-t.mean(dim=0))/t.std(dim=0)\n",
    "    return t\n",
    "t = torch.tensor([[1000, 3, 0.15], [500, 4, 0.35], [300, 8, 0.55]])\n",
    "print(normalize(t))"
   ]
  },
  {
   "cell_type": "markdown",
   "metadata": {},
   "source": [
    "Seperating data as input and output 8 column input and 1 column output (ignore 10th column)\n",
    "Normalize only the input columns. Output is binary 0-1 categories. Combine input and output together"
   ]
  },
  {
   "cell_type": "code",
   "execution_count": 20,
   "metadata": {},
   "outputs": [],
   "source": [
    "data_in = data[:, 0:8]\n",
    "data_out = data[:, 8:9]"
   ]
  },
  {
   "cell_type": "code",
   "execution_count": 21,
   "metadata": {},
   "outputs": [],
   "source": [
    "data_in = normalize(data_in)\n",
    "data_in = data_in.float()\n",
    "data = torch.cat((data_in, data_out), 1)"
   ]
  },
  {
   "cell_type": "markdown",
   "metadata": {},
   "source": [
    "Sample data for view"
   ]
  },
  {
   "cell_type": "code",
   "execution_count": 22,
   "metadata": {},
   "outputs": [
    {
     "data": {
      "text/plain": [
       "tensor([[-0.3318, -0.8011,  1.7725,  0.5737, -0.8407, -0.4818, -0.6856,  0.2954],\n",
       "        [ 2.3403,  1.3919, -1.3936,  1.1311, -0.8651,  1.0296,  0.0749,  0.5579],\n",
       "        [-0.2284,  1.0920,  0.5721,  0.5838, -0.3479,  0.7980,  0.7657,  0.3925]])"
      ]
     },
     "execution_count": 22,
     "metadata": {},
     "output_type": "execute_result"
    }
   ],
   "source": [
    "x = data[:, 0:8]\n",
    "x[0:3, :]"
   ]
  },
  {
   "cell_type": "code",
   "execution_count": 23,
   "metadata": {},
   "outputs": [
    {
     "data": {
      "text/plain": [
       "tensor([[0.],\n",
       "        [0.],\n",
       "        [0.]])"
      ]
     },
     "execution_count": 23,
     "metadata": {},
     "output_type": "execute_result"
    }
   ],
   "source": [
    "y = data[:, 8:9]\n",
    "y[0:3, :]"
   ]
  },
  {
   "cell_type": "markdown",
   "metadata": {},
   "source": [
    "Splitting the data for train (80%), validation (10%), test (10%)"
   ]
  },
  {
   "cell_type": "code",
   "execution_count": 24,
   "metadata": {},
   "outputs": [
    {
     "name": "stdout",
     "output_type": "stream",
     "text": [
      "\t\t\tFeature Shapes:\n",
      "Train set: \t\ttorch.Size([638, 8]) \n",
      "Validation set: \ttorch.Size([80, 8]) \n",
      "Test set: \t\ttorch.Size([80, 8]) \n",
      "Train label: \t\ttorch.Size([638, 1]) \n",
      "Validation label: \ttorch.Size([80, 1]) \n",
      "Test label: \t\ttorch.Size([80, 1])\n"
     ]
    }
   ],
   "source": [
    "split_frac = 0.8\n",
    "\n",
    "## split data into training, validation, and test data (features and labels, x and y)\n",
    "\n",
    "split_idx = int(len(data)*split_frac)\n",
    "train_x, remaining_x = x[:split_idx], x[split_idx:]\n",
    "train_y, remaining_y = y[:split_idx], y[split_idx:]\n",
    "\n",
    "test_idx = int(len(remaining_x)*0.5)\n",
    "val_x, test_x = remaining_x[:test_idx], remaining_x[test_idx:]\n",
    "val_y, test_y = remaining_y[:test_idx], remaining_y[test_idx:]\n",
    "\n",
    "## print out the shapes of your resultant feature data\n",
    "print(\"\\t\\t\\tFeature Shapes:\")\n",
    "print(\"Train set: \\t\\t{}\".format(train_x.size()), \n",
    "      \"\\nValidation set: \\t{}\".format(val_x.shape),\n",
    "      \"\\nTest set: \\t\\t{}\".format(test_x.shape),\n",
    "      \"\\nTrain label: \\t\\t{}\".format(train_y.shape), \n",
    "      \"\\nValidation label: \\t{}\".format(val_y.shape),\n",
    "      \"\\nTest label: \\t\\t{}\".format(test_y.shape))"
   ]
  },
  {
   "cell_type": "markdown",
   "metadata": {},
   "source": [
    "Preparing the train validation test dataloaders"
   ]
  },
  {
   "cell_type": "code",
   "execution_count": 25,
   "metadata": {},
   "outputs": [],
   "source": [
    "train = data_utils.TensorDataset(train_x, train_y)\n",
    "train_loader = data_utils.DataLoader(train, batch_size=8, shuffle=True)\n",
    "validation = data_utils.TensorDataset(val_x, val_y)\n",
    "validation_loader = data_utils.DataLoader(validation, batch_size=8, shuffle=True)\n",
    "test = data_utils.TensorDataset(test_x, test_y)\n",
    "test_loader = data_utils.DataLoader(test, batch_size=80, shuffle=True)"
   ]
  },
  {
   "cell_type": "markdown",
   "metadata": {},
   "source": [
    "Network architecture"
   ]
  },
  {
   "cell_type": "code",
   "execution_count": 26,
   "metadata": {},
   "outputs": [
    {
     "name": "stdout",
     "output_type": "stream",
     "text": [
      "Sequential(\n",
      "  (0): Linear(in_features=8, out_features=64, bias=True)\n",
      "  (1): ReLU()\n",
      "  (2): Dropout(p=0.3)\n",
      "  (3): Linear(in_features=64, out_features=64, bias=True)\n",
      "  (4): ReLU()\n",
      "  (5): Dropout(p=0.3)\n",
      "  (6): Linear(in_features=64, out_features=1, bias=True)\n",
      "  (7): Sigmoid()\n",
      ")\n"
     ]
    }
   ],
   "source": [
    "model = nn.Sequential(nn.Linear(8, 64),\n",
    "                      nn.ReLU(),\n",
    "                      nn.Dropout(0.3),\n",
    "                      nn.Linear(64, 64),\n",
    "                      nn.ReLU(),\n",
    "                      nn.Dropout(0.3),\n",
    "                      nn.Linear(64, 1),\n",
    "                      nn.Sigmoid())\n",
    "\n",
    "# Define the loss\n",
    "criterion = nn.BCELoss()\n",
    "optimizer = optim.Adam(model.parameters(), lr=0.01)\n",
    "scheduler = lr_scheduler.StepLR(optimizer, step_size=250, gamma=0.5)\n",
    "print(model)"
   ]
  },
  {
   "cell_type": "markdown",
   "metadata": {},
   "source": [
    "Training and validation"
   ]
  },
  {
   "cell_type": "code",
   "execution_count": 27,
   "metadata": {},
   "outputs": [
    {
     "name": "stdout",
     "output_type": "stream",
     "text": [
      "Epoch: 10/1000..  Training Loss: 0.265..  Validation Loss: 0.245..  Training Acc.: 0.006 Validation Acc.: 0.000\n",
      "Epoch: 20/1000..  Training Loss: 0.229..  Validation Loss: 0.230..  Training Acc.: 0.047 Validation Acc.: 0.000\n",
      "Epoch: 30/1000..  Training Loss: 0.206..  Validation Loss: 0.230..  Training Acc.: 0.058 Validation Acc.: 0.050\n",
      "Epoch: 40/1000..  Training Loss: 0.198..  Validation Loss: 0.252..  Training Acc.: 0.089 Validation Acc.: 0.125\n",
      "Epoch: 50/1000..  Training Loss: 0.195..  Validation Loss: 0.236..  Training Acc.: 0.125 Validation Acc.: 0.138\n",
      "Epoch: 60/1000..  Training Loss: 0.161..  Validation Loss: 0.220..  Training Acc.: 0.128 Validation Acc.: 0.175\n",
      "Epoch: 70/1000..  Training Loss: 0.147..  Validation Loss: 0.373..  Training Acc.: 0.158 Validation Acc.: 0.175\n",
      "Epoch: 80/1000..  Training Loss: 0.143..  Validation Loss: 0.266..  Training Acc.: 0.161 Validation Acc.: 0.213\n",
      "Epoch: 90/1000..  Training Loss: 0.139..  Validation Loss: 0.293..  Training Acc.: 0.160 Validation Acc.: 0.225\n",
      "Epoch: 100/1000..  Training Loss: 0.160..  Validation Loss: 0.394..  Training Acc.: 0.189 Validation Acc.: 0.225\n",
      "Epoch: 110/1000..  Training Loss: 0.166..  Validation Loss: 0.354..  Training Acc.: 0.201 Validation Acc.: 0.213\n",
      "Epoch: 120/1000..  Training Loss: 0.150..  Validation Loss: 0.351..  Training Acc.: 0.179 Validation Acc.: 0.200\n",
      "Epoch: 130/1000..  Training Loss: 0.120..  Validation Loss: 0.231..  Training Acc.: 0.207 Validation Acc.: 0.262\n",
      "Epoch: 140/1000..  Training Loss: 0.142..  Validation Loss: 0.312..  Training Acc.: 0.206 Validation Acc.: 0.237\n",
      "Epoch: 150/1000..  Training Loss: 0.112..  Validation Loss: 0.340..  Training Acc.: 0.230 Validation Acc.: 0.250\n",
      "Epoch: 160/1000..  Training Loss: 0.129..  Validation Loss: 0.327..  Training Acc.: 0.229 Validation Acc.: 0.262\n",
      "Epoch: 170/1000..  Training Loss: 0.113..  Validation Loss: 0.362..  Training Acc.: 0.229 Validation Acc.: 0.262\n",
      "Epoch: 180/1000..  Training Loss: 0.112..  Validation Loss: 0.342..  Training Acc.: 0.269 Validation Acc.: 0.338\n",
      "Epoch: 190/1000..  Training Loss: 0.143..  Validation Loss: 0.407..  Training Acc.: 0.242 Validation Acc.: 0.275\n",
      "Epoch: 200/1000..  Training Loss: 0.111..  Validation Loss: 0.356..  Training Acc.: 0.243 Validation Acc.: 0.287\n",
      "Epoch: 210/1000..  Training Loss: 0.131..  Validation Loss: 0.421..  Training Acc.: 0.266 Validation Acc.: 0.262\n",
      "Epoch: 220/1000..  Training Loss: 0.114..  Validation Loss: 0.474..  Training Acc.: 0.296 Validation Acc.: 0.300\n",
      "Epoch: 230/1000..  Training Loss: 0.186..  Validation Loss: 0.278..  Training Acc.: 0.279 Validation Acc.: 0.312\n",
      "Epoch: 240/1000..  Training Loss: 0.096..  Validation Loss: 0.268..  Training Acc.: 0.260 Validation Acc.: 0.287\n",
      "Epoch: 250/1000..  Training Loss: 0.145..  Validation Loss: 0.369..  Training Acc.: 0.280 Validation Acc.: 0.325\n",
      "Epoch: 260/1000..  Training Loss: 0.101..  Validation Loss: 0.422..  Training Acc.: 0.283 Validation Acc.: 0.312\n",
      "Epoch: 270/1000..  Training Loss: 0.097..  Validation Loss: 0.516..  Training Acc.: 0.272 Validation Acc.: 0.300\n",
      "Epoch: 280/1000..  Training Loss: 0.099..  Validation Loss: 0.536..  Training Acc.: 0.264 Validation Acc.: 0.312\n",
      "Epoch: 290/1000..  Training Loss: 0.102..  Validation Loss: 0.517..  Training Acc.: 0.294 Validation Acc.: 0.325\n",
      "Epoch: 300/1000..  Training Loss: 0.124..  Validation Loss: 0.488..  Training Acc.: 0.295 Validation Acc.: 0.300\n",
      "Epoch: 310/1000..  Training Loss: 0.087..  Validation Loss: 0.493..  Training Acc.: 0.315 Validation Acc.: 0.338\n",
      "Epoch: 320/1000..  Training Loss: 0.142..  Validation Loss: 0.416..  Training Acc.: 0.285 Validation Acc.: 0.312\n",
      "Epoch: 330/1000..  Training Loss: 0.096..  Validation Loss: 0.333..  Training Acc.: 0.297 Validation Acc.: 0.300\n",
      "Epoch: 340/1000..  Training Loss: 0.119..  Validation Loss: 0.460..  Training Acc.: 0.270 Validation Acc.: 0.300\n",
      "Epoch: 350/1000..  Training Loss: 0.113..  Validation Loss: 0.606..  Training Acc.: 0.317 Validation Acc.: 0.325\n",
      "Epoch: 360/1000..  Training Loss: 0.089..  Validation Loss: 0.429..  Training Acc.: 0.298 Validation Acc.: 0.312\n",
      "Epoch: 370/1000..  Training Loss: 0.092..  Validation Loss: 0.433..  Training Acc.: 0.317 Validation Acc.: 0.325\n",
      "Epoch: 380/1000..  Training Loss: 0.109..  Validation Loss: 0.490..  Training Acc.: 0.361 Validation Acc.: 0.387\n",
      "Epoch: 390/1000..  Training Loss: 0.081..  Validation Loss: 0.608..  Training Acc.: 0.351 Validation Acc.: 0.338\n",
      "Epoch: 400/1000..  Training Loss: 0.082..  Validation Loss: 0.606..  Training Acc.: 0.351 Validation Acc.: 0.363\n",
      "Epoch: 410/1000..  Training Loss: 0.105..  Validation Loss: 0.688..  Training Acc.: 0.324 Validation Acc.: 0.350\n",
      "Epoch: 420/1000..  Training Loss: 0.119..  Validation Loss: 0.479..  Training Acc.: 0.357 Validation Acc.: 0.363\n",
      "Epoch: 430/1000..  Training Loss: 0.113..  Validation Loss: 0.388..  Training Acc.: 0.371 Validation Acc.: 0.375\n",
      "Epoch: 440/1000..  Training Loss: 0.080..  Validation Loss: 0.494..  Training Acc.: 0.371 Validation Acc.: 0.363\n",
      "Epoch: 450/1000..  Training Loss: 0.079..  Validation Loss: 0.585..  Training Acc.: 0.384 Validation Acc.: 0.400\n",
      "Epoch: 460/1000..  Training Loss: 0.093..  Validation Loss: 0.584..  Training Acc.: 0.357 Validation Acc.: 0.363\n",
      "Epoch: 470/1000..  Training Loss: 0.074..  Validation Loss: 0.598..  Training Acc.: 0.370 Validation Acc.: 0.350\n",
      "Epoch: 480/1000..  Training Loss: 0.102..  Validation Loss: 0.545..  Training Acc.: 0.407 Validation Acc.: 0.412\n",
      "Epoch: 490/1000..  Training Loss: 0.170..  Validation Loss: 0.405..  Training Acc.: 0.378 Validation Acc.: 0.363\n",
      "Epoch: 500/1000..  Training Loss: 0.085..  Validation Loss: 0.970..  Training Acc.: 0.384 Validation Acc.: 0.350\n",
      "Epoch: 510/1000..  Training Loss: 0.092..  Validation Loss: 0.758..  Training Acc.: 0.387 Validation Acc.: 0.350\n",
      "Epoch: 520/1000..  Training Loss: 0.083..  Validation Loss: 1.162..  Training Acc.: 0.440 Validation Acc.: 0.438\n",
      "Epoch: 530/1000..  Training Loss: 0.104..  Validation Loss: 0.853..  Training Acc.: 0.405 Validation Acc.: 0.350\n",
      "Epoch: 540/1000..  Training Loss: 0.081..  Validation Loss: 0.851..  Training Acc.: 0.405 Validation Acc.: 0.387\n",
      "Epoch: 550/1000..  Training Loss: 0.058..  Validation Loss: 0.826..  Training Acc.: 0.415 Validation Acc.: 0.400\n",
      "Epoch: 560/1000..  Training Loss: 0.080..  Validation Loss: 0.708..  Training Acc.: 0.415 Validation Acc.: 0.412\n",
      "Epoch: 570/1000..  Training Loss: 0.084..  Validation Loss: 0.529..  Training Acc.: 0.421 Validation Acc.: 0.425\n",
      "Epoch: 580/1000..  Training Loss: 0.080..  Validation Loss: 0.559..  Training Acc.: 0.436 Validation Acc.: 0.412\n",
      "Epoch: 590/1000..  Training Loss: 0.109..  Validation Loss: 0.715..  Training Acc.: 0.409 Validation Acc.: 0.438\n",
      "Epoch: 600/1000..  Training Loss: 0.109..  Validation Loss: 0.543..  Training Acc.: 0.412 Validation Acc.: 0.363\n",
      "Epoch: 610/1000..  Training Loss: 0.135..  Validation Loss: 0.813..  Training Acc.: 0.381 Validation Acc.: 0.363\n",
      "Epoch: 620/1000..  Training Loss: 0.120..  Validation Loss: 0.991..  Training Acc.: 0.399 Validation Acc.: 0.338\n",
      "Epoch: 630/1000..  Training Loss: 0.101..  Validation Loss: 0.694..  Training Acc.: 0.404 Validation Acc.: 0.400\n",
      "Epoch: 640/1000..  Training Loss: 0.115..  Validation Loss: 0.553..  Training Acc.: 0.409 Validation Acc.: 0.425\n",
      "Epoch: 650/1000..  Training Loss: 0.110..  Validation Loss: 0.916..  Training Acc.: 0.403 Validation Acc.: 0.425\n",
      "Epoch: 660/1000..  Training Loss: 0.072..  Validation Loss: 1.057..  Training Acc.: 0.439 Validation Acc.: 0.450\n",
      "Epoch: 670/1000..  Training Loss: 0.080..  Validation Loss: 0.690..  Training Acc.: 0.424 Validation Acc.: 0.412\n",
      "Epoch: 680/1000..  Training Loss: 0.120..  Validation Loss: 0.668..  Training Acc.: 0.384 Validation Acc.: 0.387\n",
      "Epoch: 690/1000..  Training Loss: 0.166..  Validation Loss: 0.599..  Training Acc.: 0.403 Validation Acc.: 0.412\n",
      "Epoch: 700/1000..  Training Loss: 0.082..  Validation Loss: 0.621..  Training Acc.: 0.436 Validation Acc.: 0.400\n",
      "Epoch: 710/1000..  Training Loss: 0.128..  Validation Loss: 0.413..  Training Acc.: 0.453 Validation Acc.: 0.412\n",
      "Epoch: 720/1000..  Training Loss: 0.139..  Validation Loss: 0.445..  Training Acc.: 0.420 Validation Acc.: 0.363\n",
      "Epoch: 730/1000..  Training Loss: 0.053..  Validation Loss: 0.666..  Training Acc.: 0.450 Validation Acc.: 0.463\n"
     ]
    },
    {
     "name": "stdout",
     "output_type": "stream",
     "text": [
      "Epoch: 740/1000..  Training Loss: 0.090..  Validation Loss: 0.784..  Training Acc.: 0.430 Validation Acc.: 0.412\n",
      "Epoch: 750/1000..  Training Loss: 0.088..  Validation Loss: 0.733..  Training Acc.: 0.434 Validation Acc.: 0.438\n",
      "Epoch: 760/1000..  Training Loss: 0.058..  Validation Loss: 0.705..  Training Acc.: 0.398 Validation Acc.: 0.387\n",
      "Epoch: 770/1000..  Training Loss: 0.065..  Validation Loss: 0.616..  Training Acc.: 0.412 Validation Acc.: 0.400\n",
      "Epoch: 780/1000..  Training Loss: 0.117..  Validation Loss: 0.888..  Training Acc.: 0.455 Validation Acc.: 0.425\n",
      "Epoch: 790/1000..  Training Loss: 0.098..  Validation Loss: 0.538..  Training Acc.: 0.436 Validation Acc.: 0.463\n",
      "Epoch: 800/1000..  Training Loss: 0.061..  Validation Loss: 1.074..  Training Acc.: 0.406 Validation Acc.: 0.400\n",
      "Epoch: 810/1000..  Training Loss: 0.132..  Validation Loss: 1.652..  Training Acc.: 0.473 Validation Acc.: 0.412\n",
      "Epoch: 820/1000..  Training Loss: 0.143..  Validation Loss: 1.053..  Training Acc.: 0.435 Validation Acc.: 0.425\n",
      "Epoch: 830/1000..  Training Loss: 0.064..  Validation Loss: 1.541..  Training Acc.: 0.470 Validation Acc.: 0.475\n",
      "Epoch: 840/1000..  Training Loss: 0.117..  Validation Loss: 1.157..  Training Acc.: 0.484 Validation Acc.: 0.463\n",
      "Epoch: 850/1000..  Training Loss: 0.101..  Validation Loss: 0.895..  Training Acc.: 0.453 Validation Acc.: 0.450\n",
      "Epoch: 860/1000..  Training Loss: 0.060..  Validation Loss: 0.944..  Training Acc.: 0.481 Validation Acc.: 0.475\n",
      "Epoch: 870/1000..  Training Loss: 0.129..  Validation Loss: 1.154..  Training Acc.: 0.481 Validation Acc.: 0.475\n",
      "Epoch: 880/1000..  Training Loss: 0.047..  Validation Loss: 0.897..  Training Acc.: 0.528 Validation Acc.: 0.488\n",
      "Epoch: 890/1000..  Training Loss: 0.083..  Validation Loss: 1.151..  Training Acc.: 0.501 Validation Acc.: 0.475\n",
      "Epoch: 900/1000..  Training Loss: 0.079..  Validation Loss: 1.252..  Training Acc.: 0.524 Validation Acc.: 0.512\n",
      "Epoch: 910/1000..  Training Loss: 0.090..  Validation Loss: 0.953..  Training Acc.: 0.458 Validation Acc.: 0.438\n",
      "Epoch: 920/1000..  Training Loss: 0.170..  Validation Loss: 1.326..  Training Acc.: 0.451 Validation Acc.: 0.412\n",
      "Epoch: 930/1000..  Training Loss: 0.084..  Validation Loss: 1.187..  Training Acc.: 0.479 Validation Acc.: 0.450\n",
      "Epoch: 940/1000..  Training Loss: 0.068..  Validation Loss: 1.050..  Training Acc.: 0.476 Validation Acc.: 0.463\n",
      "Epoch: 950/1000..  Training Loss: 0.084..  Validation Loss: 0.999..  Training Acc.: 0.466 Validation Acc.: 0.425\n",
      "Epoch: 960/1000..  Training Loss: 0.114..  Validation Loss: 1.462..  Training Acc.: 0.484 Validation Acc.: 0.450\n",
      "Epoch: 970/1000..  Training Loss: 0.077..  Validation Loss: 1.360..  Training Acc.: 0.501 Validation Acc.: 0.450\n",
      "Epoch: 980/1000..  Training Loss: 0.078..  Validation Loss: 1.028..  Training Acc.: 0.467 Validation Acc.: 0.438\n",
      "Epoch: 990/1000..  Training Loss: 0.046..  Validation Loss: 1.078..  Training Acc.: 0.497 Validation Acc.: 0.450\n",
      "Epoch: 1000/1000..  Training Loss: 0.138..  Validation Loss: 0.972..  Training Acc.: 0.485 Validation Acc.: 0.463\n"
     ]
    }
   ],
   "source": [
    "epochs = 1000\n",
    "\n",
    "train_losses, val_losses = [], []\n",
    "for e in range(epochs):\n",
    "    running_loss = 0\n",
    "    accuracyT = 0\n",
    "    for inputs, labels in train_loader:\n",
    "       \n",
    "        optimizer.zero_grad()\n",
    "        \n",
    "        log_ps = model(inputs)\n",
    "        \n",
    "        \n",
    "        loss = criterion(log_ps, labels)\n",
    "        \n",
    "        \n",
    "        loss.backward()\n",
    "        optimizer.step()\n",
    "        \n",
    "        running_loss += loss.item()\n",
    "        equals = log_ps == labels.view(*log_ps.shape)              \n",
    "        accuracyT += torch.mean(equals.type(torch.FloatTensor))\n",
    "    else:\n",
    "        \n",
    "        val_loss = 0\n",
    "        accuracy = 0\n",
    "        model.eval()\n",
    "        # Turn off gradients for validation, saves memory and computations\n",
    "        with torch.no_grad():\n",
    "            for inputs, labels in validation_loader:\n",
    "\n",
    "                log_ps = model(inputs)\n",
    "                \n",
    "                loss = criterion(log_ps, labels)                \n",
    "                val_loss += loss.item()\n",
    "                \n",
    "                equals = log_ps == labels.view(*log_ps.shape)              \n",
    "                accuracy += torch.mean(equals.type(torch.FloatTensor))\n",
    "        #scheduler.step()        \n",
    "        train_losses.append(running_loss/len(train_loader))\n",
    "        val_losses.append(val_loss/len(validation_loader))\n",
    "        if e % 10 == 9:\n",
    "            print(\"Epoch: {}/{}.. \".format(e+1, epochs),\n",
    "                  \"Training Loss: {:.3f}.. \".format(running_loss/len(train_loader)),\n",
    "                  \"Validation Loss: {:.3f}.. \".format(val_loss/len(validation_loader)),\n",
    "                  \"Training Acc.: {:.3f}\".format(accuracyT/len(train_loader)),\n",
    "                  \"Validation Acc.: {:.3f}\".format(accuracy/len(validation_loader)))\n",
    "        model.train()"
   ]
  },
  {
   "cell_type": "markdown",
   "metadata": {},
   "source": [
    "Testing the result"
   ]
  },
  {
   "cell_type": "code",
   "execution_count": 28,
   "metadata": {},
   "outputs": [
    {
     "name": "stdout",
     "output_type": "stream",
     "text": [
      "Test Loss: 1.223..  Test Accuracy: 0.325\n"
     ]
    }
   ],
   "source": [
    "test_loss = 0\n",
    "step = 0\n",
    "accuracy = 0\n",
    "with torch.no_grad():\n",
    "    for inputs, labels in test_loader:\n",
    "        log_ps = model(inputs)\n",
    "        \n",
    "                \n",
    "        loss = criterion(log_ps, labels)                \n",
    "        test_loss += loss.item()\n",
    "                \n",
    "        equals = log_ps == labels.view(*log_ps.shape)              \n",
    "        accuracy += torch.mean(equals.type(torch.FloatTensor))\n",
    "\n",
    "    print(\"Test Loss: {:.3f}.. \".format(test_loss/len(test_loader)),\n",
    "              \"Test Accuracy: {:.3f}\".format(accuracy/len(test_loader)))"
   ]
  },
  {
   "cell_type": "code",
   "execution_count": null,
   "metadata": {},
   "outputs": [],
   "source": []
  }
 ],
 "metadata": {
  "kernelspec": {
   "display_name": "Python 3",
   "language": "python",
   "name": "python3"
  },
  "language_info": {
   "codemirror_mode": {
    "name": "ipython",
    "version": 3
   },
   "file_extension": ".py",
   "mimetype": "text/x-python",
   "name": "python",
   "nbconvert_exporter": "python",
   "pygments_lexer": "ipython3",
   "version": "3.6.7"
  }
 },
 "nbformat": 4,
 "nbformat_minor": 2
}
